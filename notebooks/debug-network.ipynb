{
 "cells": [
  {
   "cell_type": "code",
   "execution_count": null,
   "metadata": {
    "ExecuteTime": {
     "end_time": "2020-05-03T01:43:38.419716Z",
     "start_time": "2020-05-03T01:43:37.860771Z"
    }
   },
   "outputs": [],
   "source": [
    "%load_ext watermark\n",
    "%watermark"
   ]
  },
  {
   "cell_type": "code",
   "execution_count": null,
   "metadata": {
    "ExecuteTime": {
     "end_time": "2020-05-03T01:43:41.931183Z",
     "start_time": "2020-05-03T01:43:38.446519Z"
    }
   },
   "outputs": [],
   "source": [
    "import esda\n",
    "import libpysal\n",
    "import matplotlib\n",
    "import matplotlib_scalebar\n",
    "from matplotlib_scalebar.scalebar import ScaleBar\n",
    "import numpy\n",
    "import spaghetti\n",
    "import splot\n",
    "import geopandas\n",
    "\n",
    "%matplotlib inline\n",
    "%watermark -w\n",
    "%watermark -iv"
   ]
  },
  {
   "cell_type": "code",
   "execution_count": null,
   "metadata": {},
   "outputs": [],
   "source": [
    "shp_path = libpysal.examples.get_path(\"streets.shp\")"
   ]
  },
  {
   "cell_type": "code",
   "execution_count": null,
   "metadata": {},
   "outputs": [],
   "source": [
    "gdf = geopandas.read_file(shp_path)\n",
    "gdf.tail()"
   ]
  },
  {
   "cell_type": "code",
   "execution_count": null,
   "metadata": {},
   "outputs": [],
   "source": [
    "ntw0 = spaghetti.Network(in_data=shp_path, extractgraph=False)\n",
    "spaghetti.element_as_gdf(ntw0, arcs=True).tail()"
   ]
  },
  {
   "cell_type": "code",
   "execution_count": null,
   "metadata": {
    "ExecuteTime": {
     "end_time": "2020-05-03T01:43:42.314466Z",
     "start_time": "2020-05-03T01:43:41.971802Z"
    }
   },
   "outputs": [],
   "source": [
    "ntw1 = spaghetti.Network(in_data=shp_path, extractgraph=True)\n",
    "spaghetti.element_as_gdf(ntw1, arcs=True).tail()"
   ]
  },
  {
   "cell_type": "code",
   "execution_count": null,
   "metadata": {},
   "outputs": [],
   "source": [
    "ax1 = spaghetti.element_as_gdf(ntw1, arcs=True).plot(figsize=(7,7))\n",
    "spaghetti.element_as_gdf(ntw1, vertices=True).plot(ax=ax1)\n",
    "\n",
    "ax0 = spaghetti.element_as_gdf(ntw0, arcs=True).plot(figsize=(7,7))\n",
    "spaghetti.element_as_gdf(ntw0, vertices=True).plot(ax=ax0)"
   ]
  },
  {
   "cell_type": "code",
   "execution_count": null,
   "metadata": {},
   "outputs": [],
   "source": [
    "ntw0 = spaghetti.Network(in_data=shp_path, extractgraph=False)\n",
    "ntw0.extractgraph()\n",
    "len(ntw0.edges)"
   ]
  },
  {
   "cell_type": "code",
   "execution_count": null,
   "metadata": {},
   "outputs": [],
   "source": [
    "ntw1 = spaghetti.Network(in_data=shp_path, extractgraph=True)\n",
    "ntw1.extractgraph()\n",
    "len(ntw1.edges)"
   ]
  },
  {
   "cell_type": "code",
   "execution_count": null,
   "metadata": {},
   "outputs": [],
   "source": []
  },
  {
   "cell_type": "code",
   "execution_count": null,
   "metadata": {},
   "outputs": [],
   "source": []
  },
  {
   "cell_type": "code",
   "execution_count": null,
   "metadata": {},
   "outputs": [],
   "source": []
  }
 ],
 "metadata": {
  "kernelspec": {
   "display_name": "Python 3",
   "language": "python",
   "name": "python3"
  },
  "language_info": {
   "codemirror_mode": {
    "name": "ipython",
    "version": 3
   },
   "file_extension": ".py",
   "mimetype": "text/x-python",
   "name": "python",
   "nbconvert_exporter": "python",
   "pygments_lexer": "ipython3",
   "version": "3.7.8"
  }
 },
 "nbformat": 4,
 "nbformat_minor": 4
}
